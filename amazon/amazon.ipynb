{
 "cells": [
  {
   "cell_type": "code",
   "execution_count": 289,
   "metadata": {},
   "outputs": [],
   "source": [
    "driver = webdriver.Chrome()\n",
    "\n",
    "driver.get(url)\n",
    "driver.implicitly_wait(3)\n",
    "\n",
    "html_page = driver.page_source\n",
    "driver.quit()\n",
    "\n",
    "soup = BeautifulSoup(html_page, 'lxml')\n",
    "reviews = soup.findAll('div', attrs={\"data-hook\": \"review\"})\n",
    "\n",
    "rev = []\n",
    "for review in reviews:\n",
    "    name = review.find('span', class_='a-profile-name').text.strip()    \n",
    "\n",
    "    # Amazon's format is \"x.0 stars out of 5\" where x = # of stars\n",
    "    rating = review.find('span', class_='a-icon-alt').text.strip()[0]\n",
    "\n",
    "    review = review.find('span', attrs={'data-hook': 'review-body'}).text.strip()\n",
    "\n",
    "    rev.append({'customer_name': name, 'rating': rating,'review': review})\n",
    "\n",
    "# for customer name, find nested span class=\"a-profile-name\"\n",
    "# for customer rating, find nested span class=\"a-icon-alt\"\n",
    "# for customer review, find nested span data-hook=\"review\""
   ]
  },
  {
   "cell_type": "code",
   "execution_count": 293,
   "metadata": {},
   "outputs": [
    {
     "name": "stdout",
     "output_type": "stream",
     "text": [
      "{'customer_name': 'Hayley', 'rating': '1', 'review': 'To soft'}\n",
      "{'customer_name': 'Rohit', 'rating': '1', 'review': 'I had bought a refurbished iPhone 14 that was unlocked and was having troubles setting up the eSIM (because iphone14 and up are eSIM only) through various trials and errors we had looked up the IEMI number up on T-Mobile data base and it had been reported as stolen through xfinity, now I have a phone that I can’t uses because of this, unbelievable.'}\n",
      "{'customer_name': 'Krystal', 'rating': '1', 'review': \"This was the worst decision. I got the phone and the screen did not work. The screen is not apple and can tell it doesn't correctly fit. Even if I replaced it, T-Mobile said I would have the same problem. Don't buy from 3rd party. This was a scam.\"}\n",
      "{'customer_name': 'Zhangbaoquan', 'rating': '1', 'review': 'The screen often goes black and the phone freezes. This phone must have been severely dropped or soaked in water. It is unethical to sell such a phone.'}\n",
      "{'customer_name': 'Cole', 'rating': '1', 'review': 'I love my new phone except for one major issue, the front camera will not focus and every picture is blurry! Super upsetting especially since this phone is supposed to take amazing pictures. I’d love to replace it but don’t want to be without a phone waiting for the new one to ship - really unhappy!'}\n",
      "{'customer_name': 'Tristyn wheeler', 'rating': '1', 'review': 'I was surprised to see there were a few significant scratches on the screen right out of the box. That I could overlook.What I cannot overlook is the fact this device has faulty cellular components.First night: Create Esim card and transfer to new iphone. Doesn’t work. After multiple device resets, network resets, and repeated esim transfers, nothing.Next day: device is still not working after transfer. Brought to at&t store for troubleshooting. Two new esims were created via barcode and neither one worked. Transfering my esims back to my iphone 11 and it works perfectly.Most likely culprit is either faulty cellular parts or the phone is not truly unlocked.The fault is not with at&t, not with the esim, but with this device, definitively.I am very disappointed and can’t help but feel I brought this experience on myself by purchasing a phone on Amazon. Will not repeat.'}\n",
      "{'customer_name': 'Lisa G.', 'rating': '1', 'review': 'I was very frustrated with this purchase. I was trying to install my eSIM to connect to my carrier and kept getting the same error message. My carrier could not figure out the problem. Finally, I took it to the Apple Store, and they did some deep digging. Although the phone was unlocked, it was still connected to a previous customer’s sprint-T-Mobile account, probably because the customer didn’t fulfill their contract. After spending days of my time trying to connect this phone, I had to return it.'}\n",
      "{'customer_name': 'CurbFan', 'rating': '1', 'review': \"I am so pissed I would return but can't have downtime, screen is cracked and screen protector not affixed properly\"}\n",
      "{'customer_name': 'Reza M. Javadi', 'rating': '1', 'review': 'I am not happy with this seller, why? The touch screen did not work most of the times (could not use this phone even for one day )'}\n",
      "{'customer_name': 'JB', 'rating': '1', 'review': 'IPhone 14 was not paid off by the previous owner. After activating the phone AT&T advised they would be suspending my account if I continued to use the phone, unless the previous owner paid the remaining balance.'}\n"
     ]
    }
   ],
   "source": [
    "for review in rev:\n",
    "    print(review)"
   ]
  },
  {
   "cell_type": "code",
   "execution_count": 256,
   "metadata": {},
   "outputs": [],
   "source": [
    "from bs4 import BeautifulSoup\n",
    "from selenium import webdriver"
   ]
  },
  {
   "cell_type": "code",
   "execution_count": 274,
   "metadata": {},
   "outputs": [],
   "source": [
    "def get_rated_reviews(url: str, num_reviews: int):\n",
    "    driver = webdriver.Chrome()\n",
    "\n",
    "    # make browser headless so it works in the background\n",
    "    options = webdriver.ChromeOptions()\n",
    "    options.add_argument(\"headless\")\n",
    "\n",
    "    driver.get(url)\n",
    "    driver.implicitly_wait(3)\n",
    "\n",
    "    html_page = driver.page_source\n",
    "    driver.quit()\n",
    "\n",
    "    soup = BeautifulSoup(html_page, 'lxml')\n",
    "    reviews = soup.findAll('span', attrs={'data-hook': True})\n",
    "\n",
    "    print(reviews)\n",
    "\n",
    "    reviews = [review for review in reviews if review['data-hook'] == 'review-body']\n",
    "\n",
    "    # print('\\n\\n\\n\\n\\n')\n",
    "    # print(reviews)\n",
    "\n",
    "    # extract text from span tag and clean up newlines in string\n",
    "    reviews = [review.text.strip() for review in reviews]    \n",
    "\n",
    "    return reviews"
   ]
  },
  {
   "cell_type": "code",
   "execution_count": 273,
   "metadata": {},
   "outputs": [
    {
     "name": "stdout",
     "output_type": "stream",
     "text": [
      "[<span class=\"a-size-medium a-color-base\" data-hook=\"rating-out-of-text\">4.2 out of 5</span>, <span class=\"a-size-base review-title a-text-bold\" data-hook=\"review-title\">Never Disappointed</span>, <span class=\"a-size-base review-title a-text-bold\" data-hook=\"review-title\">To soft</span>, <span class=\"a-text-bold\" data-hook=\"cr-filter-info-text\" id=\"reviews-filter-info-segment\">1 star</span>, <span class=\"a-size-base review-title a-color-base review-title-content a-text-bold\" data-hook=\"review-title\">\n",
      "<span>The phone never arrived. Only the box.</span>\n",
      "</span>, <span class=\"a-size-base a-color-secondary review-date\" data-hook=\"review-date\">Reviewed in the United States on March 23, 2024</span>, <span class=\"a-size-mini a-color-state a-text-bold\" data-hook=\"avp-badge\">Verified Purchase</span>, <span class=\"a-size-base review-text review-text-content\" data-hook=\"review-body\">\n",
      "<span>Purchased a renewed phone and the box came with the charger and cable and no phone.</span>\n",
      "</span>, <span class=\"cr-vote\" data-hook=\"review-voting-widget\">\n",
      "</span>, <span class=\"a-size-base review-title a-color-base review-title-content a-text-bold\" data-hook=\"review-title\">\n",
      "<span>Temperature iPhone needs to cool down, but it is cold .</span>\n",
      "</span>, <span class=\"a-size-base a-color-secondary review-date\" data-hook=\"review-date\">Reviewed in the United States on September 14, 2023</span>, <span class=\"a-size-mini a-color-state a-text-bold\" data-hook=\"avp-badge\">Verified Purchase</span>, <span class=\"a-size-base review-text review-text-content\" data-hook=\"review-body\">\n",
      "<span>The screen comes up with the following and will not allow me to use the phone:  Temperature iPhone needs down before you can use.<br/><br/>It is cold and it really can’t cool down any further. I sent a message for a phone call from the seller and it said connected but I never received a call. I also sent a message via chat but that is very cumbersome and instead of just letting me simply state the problem, I had to go through a set of questions that were not relevant.</span>\n",
      "</span>, <span class=\"cr-vote\" data-hook=\"review-voting-widget\">\n",
      "<div class=\"a-row a-spacing-small\"><span class=\"a-size-base a-color-tertiary cr-vote-text\" data-hook=\"helpful-vote-statement\">4 people found this helpful</span></div></span>, <span class=\"a-size-base a-color-tertiary cr-vote-text\" data-hook=\"helpful-vote-statement\">4 people found this helpful</span>, <span class=\"a-size-base review-title a-color-base review-title-content a-text-bold\" data-hook=\"review-title\">\n",
      "<span>Not worth from the renewed</span>\n",
      "</span>, <span class=\"a-size-base a-color-secondary review-date\" data-hook=\"review-date\">Reviewed in the United States on March 25, 2024</span>, <span class=\"a-size-mini a-color-state a-text-bold\" data-hook=\"avp-badge\">Verified Purchase</span>, <span class=\"a-size-base review-text review-text-content\" data-hook=\"review-body\">\n",
      "<span>the os is flickering . charging is not staying long enough. lots of issues</span>\n",
      "</span>, <span class=\"cr-vote\" data-hook=\"review-voting-widget\">\n",
      "</span>, <span class=\"a-size-base review-title a-color-base review-title-content a-text-bold\" data-hook=\"review-title\">\n",
      "<span>Unable to activate</span>\n",
      "</span>, <span class=\"a-size-base a-color-secondary review-date\" data-hook=\"review-date\">Reviewed in the United States on December 29, 2022</span>, <span class=\"a-size-mini a-color-state a-text-bold\" data-hook=\"avp-badge\">Verified Purchase</span>, <span class=\"a-size-base review-text review-text-content\" data-hook=\"review-body\">\n",
      "<span>After all data transfer from old iPhone was completed you are asked to contact carrier to activate your phone. Carrier can not activate based on IMEI because it’s not registered on their system. This is the second one I purchased with the same problem thinking first was a one off but problem seem to be with all phones. Went to Apple Store and even they where unable to do anything. I tried on Verizon with not luck so had to return both phones. First time unlucky but two times it’s seller problem. They need better quality control before selling such high ticket items as unlocked when my carrier can not activate. Very disappointed.</span>\n",
      "</span>, <span class=\"cr-vote\" data-hook=\"review-voting-widget\">\n",
      "<div class=\"a-row a-spacing-small\"><span class=\"a-size-base a-color-tertiary cr-vote-text\" data-hook=\"helpful-vote-statement\">67 people found this helpful</span></div></span>, <span class=\"a-size-base a-color-tertiary cr-vote-text\" data-hook=\"helpful-vote-statement\">67 people found this helpful</span>, <span class=\"a-size-base review-title a-color-base review-title-content a-text-bold\" data-hook=\"review-title\">\n",
      "<span>Sold me a piece of junk</span>\n",
      "</span>, <span class=\"a-size-base a-color-secondary review-date\" data-hook=\"review-date\">Reviewed in the United States on February 23, 2024</span>, <span class=\"a-size-mini a-color-state a-text-bold\" data-hook=\"avp-badge\">Verified Purchase</span>, <span class=\"a-size-base review-text review-text-content\" data-hook=\"review-body\">\n",
      "<span>Phone doesn't work. Ripped off for $500. Don't buy from this vendor</span>\n",
      "</span>, <span class=\"cr-vote\" data-hook=\"review-voting-widget\">\n",
      "</span>, <span class=\"a-size-base review-title a-color-base review-title-content a-text-bold\" data-hook=\"review-title\">\n",
      "<span>Damaged</span>\n",
      "</span>, <span class=\"a-size-base a-color-secondary review-date\" data-hook=\"review-date\">Reviewed in the United States on November 21, 2023</span>, <span class=\"a-size-mini a-color-state a-text-bold\" data-hook=\"avp-badge\">Verified Purchase</span>, <span class=\"a-size-base review-text review-text-content\" data-hook=\"review-body\">\n",
      "<span>The Phone restarts everytime I try to use it, like every 3 mins. Its really frustrating because now I have to return it, and the shipping is a ups pick up, nobody has come for it.</span>\n",
      "</span>, <span class=\"cr-vote\" data-hook=\"review-voting-widget\">\n",
      "<div class=\"a-row a-spacing-small\"><span class=\"a-size-base a-color-tertiary cr-vote-text\" data-hook=\"helpful-vote-statement\">One person found this helpful</span></div></span>, <span class=\"a-size-base a-color-tertiary cr-vote-text\" data-hook=\"helpful-vote-statement\">One person found this helpful</span>, <span class=\"a-size-base review-title a-color-base review-title-content a-text-bold\" data-hook=\"review-title\">\n",
      "<span>small cellphone or android</span>\n",
      "</span>, <span class=\"a-size-base a-color-secondary review-date\" data-hook=\"review-date\">Reviewed in the United States on March 29, 2024</span>, <span class=\"a-size-mini a-color-state a-text-bold\" data-hook=\"avp-badge\">Verified Purchase</span>, <span class=\"a-size-base review-text review-text-content\" data-hook=\"review-body\">\n",
      "<span>Dislike.</span>\n",
      "</span>, <span class=\"cr-vote\" data-hook=\"review-voting-widget\">\n",
      "</span>, <span class=\"a-size-base review-title a-color-base review-title-content a-text-bold\" data-hook=\"review-title\">\n",
      "<span>Damaged</span>\n",
      "</span>, <span class=\"a-size-base a-color-secondary review-date\" data-hook=\"review-date\">Reviewed in the United States on February 1, 2024</span>, <span class=\"a-size-mini a-color-state a-text-bold\" data-hook=\"avp-badge\">Verified Purchase</span>, <span class=\"a-size-base review-text review-text-content\" data-hook=\"review-body\">\n",
      "<span>Damaged Face ID and slow back to front transition of camera and vice versa.</span>\n",
      "</span>, <span class=\"cr-vote\" data-hook=\"review-voting-widget\">\n",
      "</span>, <span class=\"a-size-base review-title a-color-base review-title-content a-text-bold\" data-hook=\"review-title\">\n",
      "<span>Received iPhone14 with a blank screen</span>\n",
      "</span>, <span class=\"a-size-base a-color-secondary review-date\" data-hook=\"review-date\">Reviewed in the United States on November 27, 2023</span>, <span class=\"a-size-mini a-color-state a-text-bold\" data-hook=\"avp-badge\">Verified Purchase</span>, <span class=\"a-size-base review-text review-text-content\" data-hook=\"review-body\"><div class=\"a-section a-spacing-small a-spacing-top-mini video-block\" id=\"video-block-R1AVXLNCMZTGTR\">\n",
      "<div class=\"cr-video-desktop cr-video-desktop-placeholder\" data-closed-captions=\"en,https://m.media-amazon.com/images/S/vse-vms-closed-captions-artifact-us-east-1-prod/closedCaptions/4794479d-dee1-47fb-99db-44a1c1e198af.vtt\" data-review-id=\"R1AVXLNCMZTGTR\" data-thumbnail-url=\"https://m.media-amazon.com/images/I/61gQenp9QOL._SY256._SY256.jpg\" data-video-url=\"https://m.media-amazon.com/images/S/vse-vms-transcoding-artifact-us-east-1-prod/1f2c46e9-b125-482e-902c-06d4a8109590/embedded.cc.default.vertical.jobtemplate.hls.m3u8\" id=\"review-video-id-R1AVXLNCMZTGTR\">\n",
      "<div class=\"cr-media-status-container\">\n",
      "<span class=\"a-spinner a-spinner-medium cr-media-spinner\"></span>\n",
      "<span class=\"a-color-inverse cr-media-error-msg\">\n",
      "                    The media could not be loaded.\n",
      "                </span>\n",
      "</div>\n",
      "</div>\n",
      "</div><input class=\"video-url\" name=\"\" type=\"hidden\" value=\"https://m.media-amazon.com/images/S/vse-vms-transcoding-artifact-us-east-1-prod/1f2c46e9-b125-482e-902c-06d4a8109590/default.vertical.jobtemplate.mp4.480.mp4\"/><input class=\"video-slate-img-url\" name=\"\" type=\"hidden\" value=\"https://m.media-amazon.com/images/I/61gQenp9QOL._SY256._SY256.jpg\"/>\n",
      "<span>Fast shipping. Bought this iPhone14 because of history of good reviews. Bamboozled! Item not in original box. Charger is not a real Apple product. Screen does not work although I could hear the phone is on (video attached to this review).</span>\n",
      "</span>, <span class=\"cr-vote\" data-hook=\"review-voting-widget\">\n",
      "<div class=\"a-row a-spacing-small\"><span class=\"a-size-base a-color-tertiary cr-vote-text\" data-hook=\"helpful-vote-statement\">3 people found this helpful</span></div></span>, <span class=\"a-size-base a-color-tertiary cr-vote-text\" data-hook=\"helpful-vote-statement\">3 people found this helpful</span>, <span class=\"a-size-base review-title a-color-base review-title-content a-text-bold\" data-hook=\"review-title\">\n",
      "<span>cheap made</span>\n",
      "</span>, <span class=\"a-size-base a-color-secondary review-date\" data-hook=\"review-date\">Reviewed in the United States on December 17, 2023</span>, <span class=\"a-size-mini a-color-state a-text-bold\" data-hook=\"avp-badge\">Verified Purchase</span>, <span class=\"a-size-base review-text review-text-content\" data-hook=\"review-body\">\n",
      "<span>I did not have this phone 6 months till the middle where it folds cracked and the phone was ruined , very cheap phone.</span>\n",
      "</span>, <span class=\"cr-vote\" data-hook=\"review-voting-widget\">\n",
      "</span>]\n",
      "\n",
      "\n",
      "\n",
      "\n",
      "\n",
      "\n",
      "[<span class=\"a-size-base review-text review-text-content\" data-hook=\"review-body\">\n",
      "<span>Purchased a renewed phone and the box came with the charger and cable and no phone.</span>\n",
      "</span>, <span class=\"a-size-base review-text review-text-content\" data-hook=\"review-body\">\n",
      "<span>The screen comes up with the following and will not allow me to use the phone:  Temperature iPhone needs down before you can use.<br/><br/>It is cold and it really can’t cool down any further. I sent a message for a phone call from the seller and it said connected but I never received a call. I also sent a message via chat but that is very cumbersome and instead of just letting me simply state the problem, I had to go through a set of questions that were not relevant.</span>\n",
      "</span>, <span class=\"a-size-base review-text review-text-content\" data-hook=\"review-body\">\n",
      "<span>the os is flickering . charging is not staying long enough. lots of issues</span>\n",
      "</span>, <span class=\"a-size-base review-text review-text-content\" data-hook=\"review-body\">\n",
      "<span>After all data transfer from old iPhone was completed you are asked to contact carrier to activate your phone. Carrier can not activate based on IMEI because it’s not registered on their system. This is the second one I purchased with the same problem thinking first was a one off but problem seem to be with all phones. Went to Apple Store and even they where unable to do anything. I tried on Verizon with not luck so had to return both phones. First time unlucky but two times it’s seller problem. They need better quality control before selling such high ticket items as unlocked when my carrier can not activate. Very disappointed.</span>\n",
      "</span>, <span class=\"a-size-base review-text review-text-content\" data-hook=\"review-body\">\n",
      "<span>Phone doesn't work. Ripped off for $500. Don't buy from this vendor</span>\n",
      "</span>, <span class=\"a-size-base review-text review-text-content\" data-hook=\"review-body\">\n",
      "<span>The Phone restarts everytime I try to use it, like every 3 mins. Its really frustrating because now I have to return it, and the shipping is a ups pick up, nobody has come for it.</span>\n",
      "</span>, <span class=\"a-size-base review-text review-text-content\" data-hook=\"review-body\">\n",
      "<span>Dislike.</span>\n",
      "</span>, <span class=\"a-size-base review-text review-text-content\" data-hook=\"review-body\">\n",
      "<span>Damaged Face ID and slow back to front transition of camera and vice versa.</span>\n",
      "</span>, <span class=\"a-size-base review-text review-text-content\" data-hook=\"review-body\"><div class=\"a-section a-spacing-small a-spacing-top-mini video-block\" id=\"video-block-R1AVXLNCMZTGTR\">\n",
      "<div class=\"cr-video-desktop cr-video-desktop-placeholder\" data-closed-captions=\"en,https://m.media-amazon.com/images/S/vse-vms-closed-captions-artifact-us-east-1-prod/closedCaptions/4794479d-dee1-47fb-99db-44a1c1e198af.vtt\" data-review-id=\"R1AVXLNCMZTGTR\" data-thumbnail-url=\"https://m.media-amazon.com/images/I/61gQenp9QOL._SY256._SY256.jpg\" data-video-url=\"https://m.media-amazon.com/images/S/vse-vms-transcoding-artifact-us-east-1-prod/1f2c46e9-b125-482e-902c-06d4a8109590/embedded.cc.default.vertical.jobtemplate.hls.m3u8\" id=\"review-video-id-R1AVXLNCMZTGTR\">\n",
      "<div class=\"cr-media-status-container\">\n",
      "<span class=\"a-spinner a-spinner-medium cr-media-spinner\"></span>\n",
      "<span class=\"a-color-inverse cr-media-error-msg\">\n",
      "                    The media could not be loaded.\n",
      "                </span>\n",
      "</div>\n",
      "</div>\n",
      "</div><input class=\"video-url\" name=\"\" type=\"hidden\" value=\"https://m.media-amazon.com/images/S/vse-vms-transcoding-artifact-us-east-1-prod/1f2c46e9-b125-482e-902c-06d4a8109590/default.vertical.jobtemplate.mp4.480.mp4\"/><input class=\"video-slate-img-url\" name=\"\" type=\"hidden\" value=\"https://m.media-amazon.com/images/I/61gQenp9QOL._SY256._SY256.jpg\"/>\n",
      "<span>Fast shipping. Bought this iPhone14 because of history of good reviews. Bamboozled! Item not in original box. Charger is not a real Apple product. Screen does not work although I could hear the phone is on (video attached to this review).</span>\n",
      "</span>, <span class=\"a-size-base review-text review-text-content\" data-hook=\"review-body\">\n",
      "<span>I did not have this phone 6 months till the middle where it folds cracked and the phone was ruined , very cheap phone.</span>\n",
      "</span>]\n"
     ]
    },
    {
     "data": {
      "text/plain": [
       "['Purchased a renewed phone and the box came with the charger and cable and no phone.',\n",
       " 'The screen comes up with the following and will not allow me to use the phone:  Temperature iPhone needs down before you can use.It is cold and it really can’t cool down any further. I sent a message for a phone call from the seller and it said connected but I never received a call. I also sent a message via chat but that is very cumbersome and instead of just letting me simply state the problem, I had to go through a set of questions that were not relevant.',\n",
       " 'the os is flickering . charging is not staying long enough. lots of issues',\n",
       " 'After all data transfer from old iPhone was completed you are asked to contact carrier to activate your phone. Carrier can not activate based on IMEI because it’s not registered on their system. This is the second one I purchased with the same problem thinking first was a one off but problem seem to be with all phones. Went to Apple Store and even they where unable to do anything. I tried on Verizon with not luck so had to return both phones. First time unlucky but two times it’s seller problem. They need better quality control before selling such high ticket items as unlocked when my carrier can not activate. Very disappointed.',\n",
       " \"Phone doesn't work. Ripped off for $500. Don't buy from this vendor\",\n",
       " 'The Phone restarts everytime I try to use it, like every 3 mins. Its really frustrating because now I have to return it, and the shipping is a ups pick up, nobody has come for it.',\n",
       " 'Dislike.',\n",
       " 'Damaged Face ID and slow back to front transition of camera and vice versa.',\n",
       " 'The media could not be loaded.\\n                \\n\\n\\n\\nFast shipping. Bought this iPhone14 because of history of good reviews. Bamboozled! Item not in original box. Charger is not a real Apple product. Screen does not work although I could hear the phone is on (video attached to this review).',\n",
       " 'I did not have this phone 6 months till the middle where it folds cracked and the phone was ruined , very cheap phone.']"
      ]
     },
     "execution_count": 273,
     "metadata": {},
     "output_type": "execute_result"
    }
   ],
   "source": [
    "get_rated_reviews('https://www.amazon.ca/product-reviews/B0BN72FYFG/ref=cm_cr_unknown?filterByStar=one_star&pageNumber=2\n",
    "', 3)"
   ]
  },
  {
   "cell_type": "code",
   "execution_count": 259,
   "metadata": {},
   "outputs": [],
   "source": [
    "page_number = 1\n",
    "\n",
    "url = 'https://www.amazon.ca/product-reviews/B0BN72FYFG/ref=cm_cr_unknown?filterByStar=one_star&pageNumber='"
   ]
  },
  {
   "cell_type": "code",
   "execution_count": 266,
   "metadata": {},
   "outputs": [
    {
     "name": "stdout",
     "output_type": "stream",
     "text": [
      "https://www.amazon.ca/product-reviews/B0BN72FYFG/ref=cm_cr_unknown?filterByStar=one_star&pageNumber=1\n",
      "https://www.amazon.ca/product-reviews/B0BN72FYFG/ref=cm_cr_unknown?filterByStar=one_star&pageNumber=2\n",
      "https://www.amazon.ca/product-reviews/B0BN72FYFG/ref=cm_cr_unknown?filterByStar=one_star&pageNumber=3\n"
     ]
    }
   ],
   "source": [
    "num_reviews = 25\n",
    "\n",
    "def get_reviews(num_reviews):\n",
    "    page_number = 1\n",
    "    reviews = []\n",
    "\n",
    "    while len(reviews) <= num_reviews:\n",
    "        page_url = url + str(page_number)\n",
    "        print(page_url)\n",
    "\n",
    "        # no reviews means we've exhausted all reviews\n",
    "        page_reviews = get_rated_reviews(page_url, num_reviews)\n",
    "\n",
    "        if len(page_reviews) == 0:\n",
    "            break\n",
    "\n",
    "        reviews += page_reviews\n",
    "\n",
    "        page_number += 1\n",
    "\n",
    "    # shave off extra reviews coming from the last page\n",
    "    reviews = reviews[:num_reviews]\n",
    "\n",
    "    # convert list of strings to list of dictionaries and add rating\n",
    "    # TODO: \n",
    "\n",
    "    return reviews"
   ]
  },
  {
   "cell_type": "code",
   "execution_count": 267,
   "metadata": {},
   "outputs": [
    {
     "data": {
      "text/plain": [
       "['To soft',\n",
       " 'I had bought a refurbished iPhone 14 that was unlocked and was having troubles setting up the eSIM (because iphone14 and up are eSIM only) through various trials and errors we had looked up the IEMI number up on T-Mobile data base and it had been reported as stolen through xfinity, now I have a phone that I can’t uses because of this, unbelievable.',\n",
       " \"This was the worst decision. I got the phone and the screen did not work. The screen is not apple and can tell it doesn't correctly fit. Even if I replaced it, T-Mobile said I would have the same problem. Don't buy from 3rd party. This was a scam.\",\n",
       " 'The screen often goes black and the phone freezes. This phone must have been severely dropped or soaked in water. It is unethical to sell such a phone.',\n",
       " 'I love my new phone except for one major issue, the front camera will not focus and every picture is blurry! Super upsetting especially since this phone is supposed to take amazing pictures. I’d love to replace it but don’t want to be without a phone waiting for the new one to ship - really unhappy!',\n",
       " 'I was surprised to see there were a few significant scratches on the screen right out of the box. That I could overlook.What I cannot overlook is the fact this device has faulty cellular components.First night: Create Esim card and transfer to new iphone. Doesn’t work. After multiple device resets, network resets, and repeated esim transfers, nothing.Next day: device is still not working after transfer. Brought to at&t store for troubleshooting. Two new esims were created via barcode and neither one worked. Transfering my esims back to my iphone 11 and it works perfectly.Most likely culprit is either faulty cellular parts or the phone is not truly unlocked.The fault is not with at&t, not with the esim, but with this device, definitively.I am very disappointed and can’t help but feel I brought this experience on myself by purchasing a phone on Amazon. Will not repeat.',\n",
       " 'I was very frustrated with this purchase. I was trying to install my eSIM to connect to my carrier and kept getting the same error message. My carrier could not figure out the problem. Finally, I took it to the Apple Store, and they did some deep digging. Although the phone was unlocked, it was still connected to a previous customer’s sprint-T-Mobile account, probably because the customer didn’t fulfill their contract. After spending days of my time trying to connect this phone, I had to return it.',\n",
       " \"I am so pissed I would return but can't have downtime, screen is cracked and screen protector not affixed properly\",\n",
       " 'I am not happy with this seller, why? The touch screen did not work most of the times (could not use this phone even for one day )',\n",
       " 'IPhone 14 was not paid off by the previous owner. After activating the phone AT&T advised they would be suspending my account if I continued to use the phone, unless the previous owner paid the remaining balance.',\n",
       " 'Purchased a renewed phone and the box came with the charger and cable and no phone.',\n",
       " 'The screen comes up with the following and will not allow me to use the phone:  Temperature iPhone needs down before you can use.It is cold and it really can’t cool down any further. I sent a message for a phone call from the seller and it said connected but I never received a call. I also sent a message via chat but that is very cumbersome and instead of just letting me simply state the problem, I had to go through a set of questions that were not relevant.',\n",
       " 'the os is flickering . charging is not staying long enough. lots of issues',\n",
       " 'After all data transfer from old iPhone was completed you are asked to contact carrier to activate your phone. Carrier can not activate based on IMEI because it’s not registered on their system. This is the second one I purchased with the same problem thinking first was a one off but problem seem to be with all phones. Went to Apple Store and even they where unable to do anything. I tried on Verizon with not luck so had to return both phones. First time unlucky but two times it’s seller problem. They need better quality control before selling such high ticket items as unlocked when my carrier can not activate. Very disappointed.',\n",
       " \"Phone doesn't work. Ripped off for $500. Don't buy from this vendor\",\n",
       " 'The Phone restarts everytime I try to use it, like every 3 mins. Its really frustrating because now I have to return it, and the shipping is a ups pick up, nobody has come for it.',\n",
       " 'Dislike.',\n",
       " 'Damaged Face ID and slow back to front transition of camera and vice versa.',\n",
       " 'The media could not be loaded.\\n                \\n\\n\\n\\nFast shipping. Bought this iPhone14 because of history of good reviews. Bamboozled! Item not in original box. Charger is not a real Apple product. Screen does not work although I could hear the phone is on (video attached to this review).',\n",
       " 'I did not have this phone 6 months till the middle where it folds cracked and the phone was ruined , very cheap phone.',\n",
       " 'My phone came in great condition. It allowed me to do an update. But then required me to sign into a Microsoft account from Levi Strauss and Company in order to get past the update so it’s basically useless. I am unable to access anything. I hope the seller is able to fix the problem. I took it to the Apple store and my phone provider store and neither of them were able to do anything to help.',\n",
       " 'The iPhone 14 I purchased was supposed to be unlocked & wasn’t I returned still haven’t received my refund Unbelievable',\n",
       " 'Spent at least 20-25 hours trying to troubleshoot issue with eSIM set up. Couldn’t set up and have to return.',\n",
       " 'Low quality item, non-original screen, multiple nicks on surface, and phone is not operating as should be. Do NOT purchase from them.',\n",
       " 'I had not received the phone']"
      ]
     },
     "execution_count": 267,
     "metadata": {},
     "output_type": "execute_result"
    }
   ],
   "source": [
    "reviews"
   ]
  },
  {
   "cell_type": "code",
   "execution_count": 268,
   "metadata": {},
   "outputs": [
    {
     "data": {
      "text/plain": [
       "25"
      ]
     },
     "execution_count": 268,
     "metadata": {},
     "output_type": "execute_result"
    }
   ],
   "source": [
    "len(reviews)"
   ]
  }
 ],
 "metadata": {
  "kernelspec": {
   "display_name": ".venv",
   "language": "python",
   "name": "python3"
  },
  "language_info": {
   "codemirror_mode": {
    "name": "ipython",
    "version": 3
   },
   "file_extension": ".py",
   "mimetype": "text/x-python",
   "name": "python",
   "nbconvert_exporter": "python",
   "pygments_lexer": "ipython3",
   "version": "3.9.13"
  }
 },
 "nbformat": 4,
 "nbformat_minor": 2
}
