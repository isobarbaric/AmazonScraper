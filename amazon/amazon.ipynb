{
 "cells": [
  {
   "cell_type": "code",
   "execution_count": 289,
   "metadata": {},
   "outputs": [],
   "source": [
    "driver = webdriver.Chrome()\n",
    "\n",
    "driver.get(url)\n",
    "driver.implicitly_wait(3)\n",
    "\n",
    "html_page = driver.page_source\n",
    "driver.quit()\n",
    "\n",
    "soup = BeautifulSoup(html_page, 'lxml')\n",
    "reviews = soup.findAll('div', attrs={\"data-hook\": \"review\"})\n",
    "\n",
    "rev = []\n",
    "for review in reviews:\n",
    "    name = review.find('span', class_='a-profile-name').text.strip()    \n",
    "\n",
    "    # Amazon's format is \"x.0 stars out of 5\" where x = # of stars\n",
    "    rating = review.find('span', class_='a-icon-alt').text.strip()[0]\n",
    "\n",
    "    review = review.find('span', attrs={'data-hook': 'review-body'}).text.strip()\n",
    "\n",
    "    rev.append({'customer_name': name, 'rating': rating,'review': review})\n",
    "\n",
    "# for customer name, find nested span class=\"a-profile-name\"\n",
    "# for customer rating, find nested span class=\"a-icon-alt\"\n",
    "# for customer review, find nested span data-hook=\"review\""
   ]
  },
  {
   "cell_type": "code",
   "execution_count": 293,
   "metadata": {},
   "outputs": [
    {
     "name": "stdout",
     "output_type": "stream",
     "text": [
      "{'customer_name': 'Hayley', 'rating': '1', 'review': 'To soft'}\n",
      "{'customer_name': 'Rohit', 'rating': '1', 'review': 'I had bought a refurbished iPhone 14 that was unlocked and was having troubles setting up the eSIM (because iphone14 and up are eSIM only) through various trials and errors we had looked up the IEMI number up on T-Mobile data base and it had been reported as stolen through xfinity, now I have a phone that I can’t uses because of this, unbelievable.'}\n",
      "{'customer_name': 'Krystal', 'rating': '1', 'review': \"This was the worst decision. I got the phone and the screen did not work. The screen is not apple and can tell it doesn't correctly fit. Even if I replaced it, T-Mobile said I would have the same problem. Don't buy from 3rd party. This was a scam.\"}\n",
      "{'customer_name': 'Zhangbaoquan', 'rating': '1', 'review': 'The screen often goes black and the phone freezes. This phone must have been severely dropped or soaked in water. It is unethical to sell such a phone.'}\n",
      "{'customer_name': 'Cole', 'rating': '1', 'review': 'I love my new phone except for one major issue, the front camera will not focus and every picture is blurry! Super upsetting especially since this phone is supposed to take amazing pictures. I’d love to replace it but don’t want to be without a phone waiting for the new one to ship - really unhappy!'}\n",
      "{'customer_name': 'Tristyn wheeler', 'rating': '1', 'review': 'I was surprised to see there were a few significant scratches on the screen right out of the box. That I could overlook.What I cannot overlook is the fact this device has faulty cellular components.First night: Create Esim card and transfer to new iphone. Doesn’t work. After multiple device resets, network resets, and repeated esim transfers, nothing.Next day: device is still not working after transfer. Brought to at&t store for troubleshooting. Two new esims were created via barcode and neither one worked. Transfering my esims back to my iphone 11 and it works perfectly.Most likely culprit is either faulty cellular parts or the phone is not truly unlocked.The fault is not with at&t, not with the esim, but with this device, definitively.I am very disappointed and can’t help but feel I brought this experience on myself by purchasing a phone on Amazon. Will not repeat.'}\n",
      "{'customer_name': 'Lisa G.', 'rating': '1', 'review': 'I was very frustrated with this purchase. I was trying to install my eSIM to connect to my carrier and kept getting the same error message. My carrier could not figure out the problem. Finally, I took it to the Apple Store, and they did some deep digging. Although the phone was unlocked, it was still connected to a previous customer’s sprint-T-Mobile account, probably because the customer didn’t fulfill their contract. After spending days of my time trying to connect this phone, I had to return it.'}\n",
      "{'customer_name': 'CurbFan', 'rating': '1', 'review': \"I am so pissed I would return but can't have downtime, screen is cracked and screen protector not affixed properly\"}\n",
      "{'customer_name': 'Reza M. Javadi', 'rating': '1', 'review': 'I am not happy with this seller, why? The touch screen did not work most of the times (could not use this phone even for one day )'}\n",
      "{'customer_name': 'JB', 'rating': '1', 'review': 'IPhone 14 was not paid off by the previous owner. After activating the phone AT&T advised they would be suspending my account if I continued to use the phone, unless the previous owner paid the remaining balance.'}\n"
     ]
    }
   ],
   "source": [
    "for review in rev:\n",
    "    print(review)"
   ]
  },
  {
   "cell_type": "code",
   "execution_count": 256,
   "metadata": {},
   "outputs": [],
   "source": [
    "from bs4 import BeautifulSoup\n",
    "from selenium import webdriver"
   ]
  },
  {
   "cell_type": "code",
   "execution_count": 325,
   "metadata": {},
   "outputs": [],
   "source": [
    "def __get_rated_reviews(url: str):\n",
    "    driver = webdriver.Chrome()\n",
    "\n",
    "    # make browser headless so it works in the background\n",
    "    options = webdriver.ChromeOptions()\n",
    "    options.add_argument(\"headless\")\n",
    "\n",
    "    driver.get(url)\n",
    "    driver.implicitly_wait(3)\n",
    "\n",
    "    html_page = driver.page_source\n",
    "    driver.quit()\n",
    "\n",
    "    soup = BeautifulSoup(html_page, 'lxml')\n",
    "    html_reviews = soup.findAll('div', attrs={\"data-hook\": \"review\"})\n",
    "\n",
    "    reviews = []\n",
    "    for html_review in html_reviews:\n",
    "        # extract text from various span tags and clean up newlines in their strings\n",
    "        name = html_review.find('span', class_='a-profile-name').text.strip()    \n",
    "\n",
    "        # Amazon's format is \"x.0 stars out of 5\" where x = # of stars\n",
    "        rating = html_review.find('span', class_='a-icon-alt').text.strip()[0]\n",
    "\n",
    "        review_body = html_review.find('span', attrs={'data-hook': 'review-body'}).text.strip()\n",
    "\n",
    "        reviews.append({'customer_name': name, 'rating': int(rating),'review': review_body})\n",
    "\n",
    "    return reviews"
   ]
  },
  {
   "cell_type": "code",
   "execution_count": 326,
   "metadata": {},
   "outputs": [
    {
     "data": {
      "text/plain": [
       "[{'customer_name': 'Hayley', 'rating': 1, 'review': 'To soft'},\n",
       " {'customer_name': 'Rohit',\n",
       "  'rating': 1,\n",
       "  'review': 'I had bought a refurbished iPhone 14 that was unlocked and was having troubles setting up the eSIM (because iphone14 and up are eSIM only) through various trials and errors we had looked up the IEMI number up on T-Mobile data base and it had been reported as stolen through xfinity, now I have a phone that I can’t uses because of this, unbelievable.'},\n",
       " {'customer_name': 'Krystal',\n",
       "  'rating': 1,\n",
       "  'review': \"This was the worst decision. I got the phone and the screen did not work. The screen is not apple and can tell it doesn't correctly fit. Even if I replaced it, T-Mobile said I would have the same problem. Don't buy from 3rd party. This was a scam.\"},\n",
       " {'customer_name': 'Zhangbaoquan',\n",
       "  'rating': 1,\n",
       "  'review': 'The screen often goes black and the phone freezes. This phone must have been severely dropped or soaked in water. It is unethical to sell such a phone.'},\n",
       " {'customer_name': 'Cole',\n",
       "  'rating': 1,\n",
       "  'review': 'I love my new phone except for one major issue, the front camera will not focus and every picture is blurry! Super upsetting especially since this phone is supposed to take amazing pictures. I’d love to replace it but don’t want to be without a phone waiting for the new one to ship - really unhappy!'},\n",
       " {'customer_name': 'Tristyn wheeler',\n",
       "  'rating': 1,\n",
       "  'review': 'I was surprised to see there were a few significant scratches on the screen right out of the box. That I could overlook.What I cannot overlook is the fact this device has faulty cellular components.First night: Create Esim card and transfer to new iphone. Doesn’t work. After multiple device resets, network resets, and repeated esim transfers, nothing.Next day: device is still not working after transfer. Brought to at&t store for troubleshooting. Two new esims were created via barcode and neither one worked. Transfering my esims back to my iphone 11 and it works perfectly.Most likely culprit is either faulty cellular parts or the phone is not truly unlocked.The fault is not with at&t, not with the esim, but with this device, definitively.I am very disappointed and can’t help but feel I brought this experience on myself by purchasing a phone on Amazon. Will not repeat.'},\n",
       " {'customer_name': 'Lisa G.',\n",
       "  'rating': 1,\n",
       "  'review': 'I was very frustrated with this purchase. I was trying to install my eSIM to connect to my carrier and kept getting the same error message. My carrier could not figure out the problem. Finally, I took it to the Apple Store, and they did some deep digging. Although the phone was unlocked, it was still connected to a previous customer’s sprint-T-Mobile account, probably because the customer didn’t fulfill their contract. After spending days of my time trying to connect this phone, I had to return it.'},\n",
       " {'customer_name': 'CurbFan',\n",
       "  'rating': 1,\n",
       "  'review': \"I am so pissed I would return but can't have downtime, screen is cracked and screen protector not affixed properly\"},\n",
       " {'customer_name': 'Reza M. Javadi',\n",
       "  'rating': 1,\n",
       "  'review': 'I am not happy with this seller, why? The touch screen did not work most of the times (could not use this phone even for one day )'},\n",
       " {'customer_name': 'JB',\n",
       "  'rating': 1,\n",
       "  'review': 'IPhone 14 was not paid off by the previous owner. After activating the phone AT&T advised they would be suspending my account if I continued to use the phone, unless the previous owner paid the remaining balance.'}]"
      ]
     },
     "execution_count": 326,
     "metadata": {},
     "output_type": "execute_result"
    }
   ],
   "source": [
    "__get_rated_reviews('https://www.amazon.ca/product-reviews/B0BN72FYFG/ref=cm_cr_unknown?filterByStar=one_star&pageNumber=1')"
   ]
  },
  {
   "cell_type": "code",
   "execution_count": 327,
   "metadata": {},
   "outputs": [],
   "source": [
    "star_page_suffix = {\n",
    "    5: '/ref=cm_cr_unknown?filterByStar=five_star&pageNumber=',\n",
    "    4: '/ref=cm_cr_unknown?filterByStar=four_star&pageNumber=',\n",
    "    3: '/ref=cm_cr_unknown?filterByStar=three_star&pageNumber=',\n",
    "    2: '/ref=cm_cr_unknown?filterByStar=two_star&pageNumber=',\n",
    "    1: '/ref=cm_cr_unknown?filterByStar=one_star&pageNumber=',\n",
    "}\n",
    "\n",
    "AMAZON_REVIEW_URL = 'https://www.amazon.ca/product-reviews/'"
   ]
  },
  {
   "cell_type": "code",
   "execution_count": 330,
   "metadata": {},
   "outputs": [],
   "source": [
    "def get_reviews(asin: str, num_reviews: int):\n",
    "    assert num_reviews % 5 == 0\n",
    "\n",
    "    base_url = AMAZON_REVIEW_URL + asin\n",
    "    overall_reviews = []\n",
    "\n",
    "    for star_num in range(1, 6):\n",
    "        url = base_url + star_page_suffix[star_num]\n",
    "\n",
    "        page_number = 1\n",
    "        reviews = []\n",
    "        reviews_per_star = int(num_reviews / 5)\n",
    "\n",
    "        while len(reviews) <= reviews_per_star:\n",
    "            page_url = url + str(page_number)\n",
    "            print(page_url)\n",
    "\n",
    "            # no reviews means we've exhausted all reviews\n",
    "            page_reviews = __get_rated_reviews(page_url)\n",
    "\n",
    "            if len(page_reviews) == 0:\n",
    "                break\n",
    "\n",
    "            reviews += page_reviews\n",
    "            page_number += 1\n",
    "\n",
    "        # shave off extra reviews coming from the last page\n",
    "        reviews = reviews[:reviews_per_star]\n",
    "        overall_reviews += reviews\n",
    "\n",
    "    return overall_reviews"
   ]
  },
  {
   "cell_type": "code",
   "execution_count": 331,
   "metadata": {},
   "outputs": [
    {
     "name": "stdout",
     "output_type": "stream",
     "text": [
      "https://www.amazon.ca/product-reviews/B0BN72FYFG/ref=cm_cr_unknown?filterByStar=one_star&pageNumber=1\n",
      "https://www.amazon.ca/product-reviews/B0BN72FYFG/ref=cm_cr_unknown?filterByStar=two_star&pageNumber=1\n",
      "https://www.amazon.ca/product-reviews/B0BN72FYFG/ref=cm_cr_unknown?filterByStar=three_star&pageNumber=1\n",
      "https://www.amazon.ca/product-reviews/B0BN72FYFG/ref=cm_cr_unknown?filterByStar=four_star&pageNumber=1\n",
      "https://www.amazon.ca/product-reviews/B0BN72FYFG/ref=cm_cr_unknown?filterByStar=five_star&pageNumber=1\n"
     ]
    },
    {
     "data": {
      "text/plain": [
       "[{'customer_name': 'Hayley', 'rating': 1, 'review': 'To soft'},\n",
       " {'customer_name': 'Rohit',\n",
       "  'rating': 1,\n",
       "  'review': 'I had bought a refurbished iPhone 14 that was unlocked and was having troubles setting up the eSIM (because iphone14 and up are eSIM only) through various trials and errors we had looked up the IEMI number up on T-Mobile data base and it had been reported as stolen through xfinity, now I have a phone that I can’t uses because of this, unbelievable.'},\n",
       " {'customer_name': 'Sb',\n",
       "  'rating': 2,\n",
       "  'review': 'Phone was good, great condition and all but it seems it was blacklisted (either someone didn’t pay it off or stole it, then it ended up on third party seller hands) so it was practically useless as a phone since I couldn’t connect it with carrier even with it being unlocked. It was huge pain, I was without a phone for almost a week until I needed up ordering a SIM card for my old phone which I’m so glad I didn’t trade in.The only reason I’m giving it two stars is because the sellers customer service was great, very responsive so I’ll give them the benefit of the doubt and say they just got a lemon. When you’d go to settings>general>about your see under esim that it’d say *device not allowed* or something similar which seemed like that’s a tell tell for blacklisted devices. Final nail on the coffin was after I took it to an Apple Store and they told me it was fine but most likely blacklisted.'},\n",
       " {'customer_name': 'María José Jaramillo Cartwright',\n",
       "  'rating': 2,\n",
       "  'review': 'I didn\\'t even get to turn on the phone, because as soon as I saw how damaged the exterior was I was extremely worried. I\\'ve purchased refurbished items tons of times before, nevertheless this is the first time I decided to immediately return it. I understand the value is decreased because it is previously owned, and I\\'m sure the cellphone itself was functional - but if it is stated that it is in \"excellent\" conditions, then I wouldn\\'t expect such cosmetic damage as the sides to the screen and the back. I was pretty disappointed about it.'},\n",
       " {'customer_name': 'Emily Ridgeway',\n",
       "  'rating': 3,\n",
       "  'review': 'Overall I’m satisfied with the purchase. The screen is cracked and held together by a screen protector but I needed a replacement phone immediately so this will do. The body is dinged up and a scratch on one of the camera lenses. I can overlook those, I think it’s the tiny cracks on the screen that they just put a screen protector over that irk me the most. Not what I would expect when the description was “excellent condition.” I did not mean to purchase an eSIM, because they’re a pain in the butt with Xfinity mobile, so be advised this is an eSIM but yes technically compatible. Probably won’t purchase from here again. I’ve gotten better refurbished electronics elsewhere.'},\n",
       " {'customer_name': 'Amazon Customer',\n",
       "  'rating': 3,\n",
       "  'review': \"I just activated this phone and had to get a new carrier since I didn't notice the GSM network doesn't work for Verizon. The speaker is blown at a certain volume ! I can't find if that is acceptable within the renewed standards but since I am trading in my old phone I don't want to go through the trouble of trying to set up my old Verizon phone, with a new network which I would have to wait for a new SIM card, ugh so only option is to return this phone and wait for 2 weeks to get refund and be without a phone.. but I will get another one and hope it's better then return this phone when it comes in.\"},\n",
       " {'customer_name': 'Catherine',\n",
       "  'rating': 4,\n",
       "  'review': 'Came in 4 days early! The battery health is 100% and it was easy to transfer my cellular service with the help of a Verizon worker. Overall pretty impressed. That being said, I paid for excellent condition and there are a few very tiny but noticeable (at least to me) scratches. Receipt said it was “B+ grade” and I’m happy with it but I don’t feel as though excellent condition suggests there could be any scratches. I’m still very happy for what I paid though!'},\n",
       " {'customer_name': 'Veniece',\n",
       "  'rating': 4,\n",
       "  'review': 'Great condition.Just a few scratches on the edges and the speaker is low when it rings.Battery life is 90%FULLY UNLOCKED as stated.Very nice overall. Pleased with the purchase.'},\n",
       " {'customer_name': \"Frederic Melvin O'Kohnner\",\n",
       "  'rating': 5,\n",
       "  'review': \"This is the second refurb iPhone that I have purchased over the years and am never disappointed in the quality of the product that meets or even exceeds actual Apple reburbished units.The phone was in excellent condition with not even a mark or a scratch anywhere to be seen. It even came with a charger and a cable (my 1st phone didn't).The battery life is definately better as well. The only wee issue I had was that I thought all iPhone 14's had the USB-C connecter but, alas, this one has the lightning plug instead. 'S OK, I'll live with it!\"},\n",
       " {'customer_name': 'Amazon Customer',\n",
       "  'rating': 5,\n",
       "  'review': \"Deliberately waited for few days before giving my feedback. Got it for my daughter and she is very happy with the product, so no issues there but was expecting adapter along with the charging cable but didn't get one so was little disappointed. Still giving 5 stars!\"}]"
      ]
     },
     "execution_count": 331,
     "metadata": {},
     "output_type": "execute_result"
    }
   ],
   "source": [
    "# num_reviews must be divisible by 10\n",
    "get_reviews(asin = 'B0BN72FYFG', num_reviews = 10)"
   ]
  },
  {
   "cell_type": "markdown",
   "metadata": {},
   "source": [
    "next:\n",
    "- make it so that instead of num_reviews reviews per star, it uses equal amount per star (done)\n",
    "- move this implementation into amazon.py (done)\n",
    "- set upheadless chrome "
   ]
  }
 ],
 "metadata": {
  "kernelspec": {
   "display_name": ".venv",
   "language": "python",
   "name": "python3"
  },
  "language_info": {
   "codemirror_mode": {
    "name": "ipython",
    "version": 3
   },
   "file_extension": ".py",
   "mimetype": "text/x-python",
   "name": "python",
   "nbconvert_exporter": "python",
   "pygments_lexer": "ipython3",
   "version": "3.9.13"
  }
 },
 "nbformat": 4,
 "nbformat_minor": 2
}
